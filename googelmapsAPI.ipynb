{
 "cells": [
  {
   "cell_type": "markdown",
   "id": "305e37c3-e311-4250-ac38-70742bdea1b4",
   "metadata": {},
   "source": [
    "# GoogleMapsAPI\n",
    "Code for using the Google Map API to Geocode Addresses provided in an excel sheet."
   ]
  },
  {
   "cell_type": "code",
   "execution_count": null,
   "id": "86e269a9-9597-4730-83b4-a4229116da79",
   "metadata": {},
   "outputs": [],
   "source": [
    "import pandas as pd\n",
    "import requests\n",
    "import re"
   ]
  },
  {
   "cell_type": "code",
   "execution_count": null,
   "id": "0fbb9231-9ade-4b1a-ab8b-aa37c1435963",
   "metadata": {},
   "outputs": [],
   "source": [
    "def get_geocode(address):\n",
    "    \n",
    "    api_key = ''  # Replace with your actual API key\n",
    "\n",
    "    # Format the address for the API request\n",
    "    formatted_address = address.replace(' ', '+')\n",
    "\n",
    "    # Make a request to the Geocoding API\n",
    "    url = f'https://maps.googleapis.com/maps/api/geocode/json?address={formatted_address}&key={api_key}'\n",
    "    response = requests.get(url)\n",
    "    data = response.json()\n",
    "\n",
    "    # Check if the API response was successful\n",
    "    if data['status'] == 'OK':\n",
    "        result = data['results'][0]\n",
    "        latitude = result['geometry']['location']['lat']\n",
    "        longitude = result['geometry']['location']['lng']\n",
    "        is_partial_match = data.get('partial_match', False)\n",
    "        is_lat_lng_found = True\n",
    "    else:\n",
    "        # Geocoding was not successful\n",
    "        latitude = None\n",
    "        longitude = None\n",
    "        is_partial_match = False\n",
    "        is_lat_lng_found = False\n",
    "\n",
    "    return latitude, longitude, is_partial_match, is_lat_lng_found"
   ]
  },
  {
   "cell_type": "code",
   "execution_count": null,
   "id": "41a0aeee-d553-49fe-81e1-7450d572b7f8",
   "metadata": {},
   "outputs": [],
   "source": [
    "# Read addresses from an Excel file and retrieve geocodes\n",
    "def geocode_excel_file(input_file, output_file):\n",
    "    # Read the input Excel file\n",
    "    df = pd.read_excel(input_file)\n",
    "\n",
    "    # Convert \"Address\", \"State\", and \"Country\" columns to string type\n",
    "    df['Name'] = df['Name'].astype(str)\n",
    "    df['Address'] = df['Address'].astype(str)\n",
    "    df['State'] = df['State'].astype(str)\n",
    "    df['Country'] = df['Country'].astype(str)\n",
    "\n",
    "    # Combine \"Name\", \"Address\", \"State\", and \"Country\" columns to create \"Full_Address\"\n",
    "    df['Full_Address'] = df['Name'] + ', ' + df['Address'] + ', ' + df['State'] + ', ' + df['Country']\n",
    "\n",
    "    # Count variables for latitudes and longitudes found, partial matches, and not found\n",
    "    lat_lng_found = 0\n",
    "    partial_matches = 0\n",
    "    not_found = 0\n",
    "\n",
    "    for index, row in df.iterrows():\n",
    "        full_address = row['Full_Address']\n",
    "        state_country_address = row['State'] + ', ' + row['Country']\n",
    "        region_address = row['Region']\n",
    "        country_address = row['Country']\n",
    "\n",
    "        # Geocoding with the full address first\n",
    "        latitude, longitude, is_partial_match, is_lat_lng_found = get_geocode(full_address)\n",
    "\n",
    "        if not is_lat_lng_found:\n",
    "            # If latitude and longitude are not found with the main address, try state_country_address\n",
    "            latitude, longitude, is_partial_match, is_lat_lng_found = get_geocode(state_country_address)\n",
    "\n",
    "            if not is_lat_lng_found:\n",
    "                # If latitude and longitude are not found with state_country_address, try region_address\n",
    "                latitude, longitude, is_partial_match, is_lat_lng_found = get_geocode(region_address)\n",
    "\n",
    "                if not is_lat_lng_found:\n",
    "                    # If latitude and longitude are not found with region_address, try country_address\n",
    "                    latitude, longitude, is_partial_match, is_lat_lng_found = get_geocode(country_address)\n",
    "\n",
    "        # Update the count variables based on geocoding results\n",
    "        if is_lat_lng_found:\n",
    "            lat_lng_found += 1\n",
    "        elif is_partial_match:\n",
    "            partial_matches += 1\n",
    "        else:\n",
    "            not_found += 1\n",
    "\n",
    "        df.at[index, 'Latitude'] = latitude\n",
    "        df.at[index, 'Longitude'] = longitude\n",
    "\n",
    "    df.drop(columns=['Full_Address'], inplace=True)  # Drop the 'Full_Address' column\n",
    "    df.to_csv(output_file, index=False)  # Save the CSV file with the same encoding\n",
    "\n",
    "    # Print the count of latitudes and longitudes found, partial matches, and not found\n",
    "    print(f'Latitudes and Longitudes Found (Status OK): {lat_lng_found}')\n",
    "    print(f'Partial Matches (Partial Match = True): {partial_matches}')\n",
    "    print(f'Not Found: {not_found}')"
   ]
  },
  {
   "cell_type": "code",
   "execution_count": null,
   "id": "e178589f-bb4f-4fba-b6e0-ff7f118ea56a",
   "metadata": {},
   "outputs": [],
   "source": [
    "# Example usage\n",
    "input_file = 'input.xlsx'\n",
    "output_file = 'output.csv'\n",
    "\n",
    "geocode_excel_file(input_file, output_file)\n",
    "print(f'Geocoding completed. Results saved to {output_file}')"
   ]
  }
 ],
 "metadata": {
  "kernelspec": {
   "display_name": "Python 3 (ipykernel)",
   "language": "python",
   "name": "python3"
  },
  "language_info": {
   "codemirror_mode": {
    "name": "ipython",
    "version": 3
   },
   "file_extension": ".py",
   "mimetype": "text/x-python",
   "name": "python",
   "nbconvert_exporter": "python",
   "pygments_lexer": "ipython3",
   "version": "3.11.8"
  }
 },
 "nbformat": 4,
 "nbformat_minor": 5
}
